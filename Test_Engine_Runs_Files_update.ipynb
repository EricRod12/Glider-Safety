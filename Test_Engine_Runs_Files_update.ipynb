{
 "cells": [
  {
   "cell_type": "code",
   "execution_count": 1,
   "id": "347d9dec-5025-4fc4-b0f9-1626eb3852b1",
   "metadata": {
    "tags": []
   },
   "outputs": [],
   "source": [
    "import pandas as pd\n",
    "import numpy as np\n",
    "import seaborn as sns\n",
    "import matplotlib.pyplot as plt\n",
    "import seaborn as sns\n",
    "import csv"
   ]
  },
  {
   "cell_type": "markdown",
   "id": "7eefca05-ed27-4c91-8e80-86f7d9274a06",
   "metadata": {},
   "source": [
    "### Default Thresholds"
   ]
  },
  {
   "cell_type": "code",
   "execution_count": 2,
   "id": "851c6b66-156c-4346-be3f-8499163395ce",
   "metadata": {
    "tags": []
   },
   "outputs": [],
   "source": [
    "## Final Flights data\n",
    "df = pd.read_csv('transformed data 600 500 50/updated_flights_final.csv', sep=\"\\t\", quoting=csv.QUOTE_ALL)"
   ]
  },
  {
   "cell_type": "code",
   "execution_count": 3,
   "id": "71abf0f0-1132-48f9-816d-92e5140d22b0",
   "metadata": {
    "tags": []
   },
   "outputs": [
    {
     "data": {
      "text/plain": [
       "Index(['index', 'Date (MM/DD/YYYY)', 'File', 'Gtype', 'Flight Time',\n",
       "       'Start Time', 'End Time', 'Landing', 'Start_Alt (ft MSL)',\n",
       "       'Max Altitude (ft MSL/ft AGL)', 'Surface Height (ft MSL)',\n",
       "       'Pressure Altitude (ft MSL)', 'Offset (ft)', 'Sensor Info',\n",
       "       'ENL_Engine_Run_Start_Times', 'MOP_Engine_Run_Start_Times',\n",
       "       'RPM_Engine_Run_Start_Times', 'ENL_Engine_Run_Altitudes_MSL',\n",
       "       'MOP_Engine_Run_Altitudes_MSL', 'RPM_Engine_Run_Altitudes_MSL',\n",
       "       'ENL_Engine_Run_Altitudes_AGL', 'MOP_Engine_Run_Altitudes_AGL',\n",
       "       'RPM_Engine_Run_Altitudes_AGL', 'ENL_Noise_Registration_Times',\n",
       "       'MOP_Noise_Registration_Times', 'RPM_Noise_Registration_Times',\n",
       "       'ENL_Noise_Registration_Altitudes_AGL',\n",
       "       'MOP_Noise_Registration_Altitudes_AGL',\n",
       "       'RPM_Noise_Registration_Altitudes_AGL', 'first_event_time',\n",
       "       'event_type', 'event_sensor', 'first_event_datetime',\n",
       "       'flight_start_datetime', 'window_start', 'window_end',\n",
       "       'engine_run_agls', 'altitude_rate_pre_event_window (ft/s)',\n",
       "       'distance_traveled_during_window (miles)',\n",
       "       'is_circling_during_pre_event_window',\n",
       "       'terrain_elev_at_engine_run (ft)', 'terrain_label_at_engine_run',\n",
       "       'Engine_Start_Above_1000ft', 'engine_run_times (s)',\n",
       "       'height_gain_loss (ft)', 'avg_speed_while_engine_running (knots)',\n",
       "       'min_speed_while_engine_running (knots)',\n",
       "       'max_speed_while_engine_running (knots)', 'All_Min_TAS_knots',\n",
       "       'All_Max_TAS_knots', 'All_Avg_TAS_knots', 'All_Post_Run_Min_TAS_knots',\n",
       "       'All_Post_Run_Max_TAS_knots', 'All_Post_Run_Avg_TAS_knots',\n",
       "       'Circling_Segment_Found', 'Min_Speed_While_Engine_Running_knots',\n",
       "       'Max_Speed_While_Engine_Running_knots',\n",
       "       'Avg_Speed_While_Engine_Running_knots', 'max_noise_ENL',\n",
       "       'max_noise_MOP', 'max_noise_RPM'],\n",
       "      dtype='object')"
      ]
     },
     "execution_count": 3,
     "metadata": {},
     "output_type": "execute_result"
    }
   ],
   "source": [
    "df.columns"
   ]
  },
  {
   "cell_type": "code",
   "execution_count": 4,
   "id": "6af1186f-7297-4deb-8dd5-44358d87408b",
   "metadata": {
    "tags": []
   },
   "outputs": [
    {
     "data": {
      "text/plain": [
       "0      16:44:59\n",
       "1      19:37:03\n",
       "2      18:38:35\n",
       "3      19:31:32\n",
       "4      17:07:46\n",
       "         ...   \n",
       "396    17:29:51\n",
       "397    17:33:56\n",
       "398    17:52:02\n",
       "399    17:58:26\n",
       "400    17:48:28\n",
       "Name: Start Time, Length: 401, dtype: object"
      ]
     },
     "execution_count": 4,
     "metadata": {},
     "output_type": "execute_result"
    }
   ],
   "source": [
    "df['Start Time'] = pd.to_datetime(df['Start Time'].astype(str),format=\"%H%M%S\").dt.time\n",
    "df['Start Time']"
   ]
  },
  {
   "cell_type": "code",
   "execution_count": 5,
   "id": "bd92bb59-66b6-4059-b757-38f86a383544",
   "metadata": {
    "tags": []
   },
   "outputs": [
    {
     "data": {
      "text/plain": [
       "0      16:57:05\n",
       "1      19:37:03\n",
       "2      18:47:38\n",
       "3      20:26:16\n",
       "4      17:18:02\n",
       "         ...   \n",
       "396    20:25:17\n",
       "397    19:48:39\n",
       "398    21:15:25\n",
       "399    20:27:32\n",
       "400    21:11:40\n",
       "Name: first_event_time, Length: 401, dtype: object"
      ]
     },
     "execution_count": 5,
     "metadata": {},
     "output_type": "execute_result"
    }
   ],
   "source": [
    "df['first_event_time'] = pd.to_datetime(df['first_event_time'].astype(str),format=\"%H%M%S\").dt.time\n",
    "df['first_event_time']"
   ]
  },
  {
   "cell_type": "code",
   "execution_count": 6,
   "id": "5ce62c14-f7de-4f82-bd1e-95c5291891c7",
   "metadata": {
    "tags": []
   },
   "outputs": [],
   "source": [
    "df['time_difference'] = df.apply(lambda row: \n",
    "    pd.to_datetime(str(row['first_event_time'])) - pd.to_datetime(str(row['Start Time'])), axis=1)"
   ]
  },
  {
   "cell_type": "code",
   "execution_count": 7,
   "id": "b2d5b312-e33e-418c-b2d4-3473de6e914e",
   "metadata": {
    "tags": []
   },
   "outputs": [
    {
     "data": {
      "text/plain": [
       "0    00:12:06\n",
       "1    00:00:00\n",
       "2    00:09:03\n",
       "3    00:54:44\n",
       "4    00:10:16\n",
       "5    04:30:44\n",
       "6    04:04:34\n",
       "7    00:10:12\n",
       "8    01:43:56\n",
       "9    00:03:52\n",
       "Name: time_difference, dtype: object"
      ]
     },
     "execution_count": 7,
     "metadata": {},
     "output_type": "execute_result"
    }
   ],
   "source": [
    "df['time_difference'] = df['time_difference'].astype(str).str.split('0 days ').str[-1]\n",
    "df['time_difference'].head(10)"
   ]
  },
  {
   "cell_type": "code",
   "execution_count": 8,
   "id": "3283c981-b961-4f87-b0f2-e5b73cd40a95",
   "metadata": {
    "tags": []
   },
   "outputs": [
    {
     "data": {
      "text/plain": [
       "0    0\n",
       "1    1\n",
       "2    0\n",
       "3    0\n",
       "4    0\n",
       "5    0\n",
       "6    0\n",
       "7    0\n",
       "8    0\n",
       "9    1\n",
       "Name: First_Event_LessThan_5min_into_flight, dtype: int64"
      ]
     },
     "execution_count": 8,
     "metadata": {},
     "output_type": "execute_result"
    }
   ],
   "source": [
    "df['First_Event_LessThan_5min_into_flight'] = df['time_difference'].between('00:00:00','00:05:00')\n",
    "df['First_Event_LessThan_5min_into_flight'] = df['First_Event_LessThan_5min_into_flight'].astype(int)\n",
    "df['First_Event_LessThan_5min_into_flight'].head(10)"
   ]
  },
  {
   "cell_type": "code",
   "execution_count": 9,
   "id": "f364bc81-2f8c-4548-b4ac-520c9157fe22",
   "metadata": {
    "tags": []
   },
   "outputs": [
    {
     "data": {
      "text/html": [
       "<div>\n",
       "<style scoped>\n",
       "    .dataframe tbody tr th:only-of-type {\n",
       "        vertical-align: middle;\n",
       "    }\n",
       "\n",
       "    .dataframe tbody tr th {\n",
       "        vertical-align: top;\n",
       "    }\n",
       "\n",
       "    .dataframe thead th {\n",
       "        text-align: right;\n",
       "    }\n",
       "</style>\n",
       "<table border=\"1\" class=\"dataframe\">\n",
       "  <thead>\n",
       "    <tr style=\"text-align: right;\">\n",
       "      <th></th>\n",
       "      <th>index</th>\n",
       "      <th>Date (MM/DD/YYYY)</th>\n",
       "      <th>File</th>\n",
       "      <th>Gtype</th>\n",
       "      <th>Flight Time</th>\n",
       "      <th>Start Time</th>\n",
       "      <th>End Time</th>\n",
       "      <th>Landing</th>\n",
       "      <th>Start_Alt (ft MSL)</th>\n",
       "      <th>Max Altitude (ft MSL/ft AGL)</th>\n",
       "      <th>...</th>\n",
       "      <th>All_Post_Run_Avg_TAS_knots</th>\n",
       "      <th>Circling_Segment_Found</th>\n",
       "      <th>Min_Speed_While_Engine_Running_knots</th>\n",
       "      <th>Max_Speed_While_Engine_Running_knots</th>\n",
       "      <th>Avg_Speed_While_Engine_Running_knots</th>\n",
       "      <th>max_noise_ENL</th>\n",
       "      <th>max_noise_MOP</th>\n",
       "      <th>max_noise_RPM</th>\n",
       "      <th>time_difference</th>\n",
       "      <th>First_Event_LessThan_5min_into_flight</th>\n",
       "    </tr>\n",
       "  </thead>\n",
       "  <tbody>\n",
       "    <tr>\n",
       "      <th>0</th>\n",
       "      <td>13</td>\n",
       "      <td>08/18/2020</td>\n",
       "      <td>2020-08-18-CNI-20Y-01.IGC</td>\n",
       "      <td>ASW 27-18 E (ASG-29E)</td>\n",
       "      <td>3:37:01</td>\n",
       "      <td>16:44:59</td>\n",
       "      <td>202200</td>\n",
       "      <td>HOME</td>\n",
       "      <td>652</td>\n",
       "      <td>7208[5847]</td>\n",
       "      <td>...</td>\n",
       "      <td>65.1</td>\n",
       "      <td>True</td>\n",
       "      <td>NaN</td>\n",
       "      <td>NaN</td>\n",
       "      <td>NaN</td>\n",
       "      <td>999</td>\n",
       "      <td>NaN</td>\n",
       "      <td>NaN</td>\n",
       "      <td>00:12:06</td>\n",
       "      <td>0</td>\n",
       "    </tr>\n",
       "    <tr>\n",
       "      <th>1</th>\n",
       "      <td>15</td>\n",
       "      <td>06/27/2024</td>\n",
       "      <td>46RGJUM1.IGC</td>\n",
       "      <td>VENTUS 3F</td>\n",
       "      <td>3:42:29</td>\n",
       "      <td>19:37:03</td>\n",
       "      <td>231932</td>\n",
       "      <td>HOME</td>\n",
       "      <td>3713</td>\n",
       "      <td>11335[8058]</td>\n",
       "      <td>...</td>\n",
       "      <td>78.7</td>\n",
       "      <td>True</td>\n",
       "      <td>NaN</td>\n",
       "      <td>NaN</td>\n",
       "      <td>NaN</td>\n",
       "      <td>921</td>\n",
       "      <td>NaN</td>\n",
       "      <td>NaN</td>\n",
       "      <td>00:00:00</td>\n",
       "      <td>1</td>\n",
       "    </tr>\n",
       "    <tr>\n",
       "      <th>2</th>\n",
       "      <td>24</td>\n",
       "      <td>06/29/2018</td>\n",
       "      <td>2018-06-29-NKL-10Q-01.IGC</td>\n",
       "      <td>ASW 27-18 E (ASG-29E)</td>\n",
       "      <td>3:18:46</td>\n",
       "      <td>18:38:35</td>\n",
       "      <td>215721</td>\n",
       "      <td>HOME</td>\n",
       "      <td>301</td>\n",
       "      <td>4576[4373]</td>\n",
       "      <td>...</td>\n",
       "      <td>57.5</td>\n",
       "      <td>True</td>\n",
       "      <td>NaN</td>\n",
       "      <td>NaN</td>\n",
       "      <td>NaN</td>\n",
       "      <td>999</td>\n",
       "      <td>NaN</td>\n",
       "      <td>NaN</td>\n",
       "      <td>00:09:03</td>\n",
       "      <td>0</td>\n",
       "    </tr>\n",
       "    <tr>\n",
       "      <th>3</th>\n",
       "      <td>25</td>\n",
       "      <td>06/09/2018</td>\n",
       "      <td>2018-06-09-CNI-20E-01.IGC</td>\n",
       "      <td>ASW 27-18 E (ASG-29E)</td>\n",
       "      <td>2:39:52</td>\n",
       "      <td>19:31:32</td>\n",
       "      <td>221124</td>\n",
       "      <td>HOME</td>\n",
       "      <td>1578</td>\n",
       "      <td>5885[4203]</td>\n",
       "      <td>...</td>\n",
       "      <td>59.1,60.6</td>\n",
       "      <td>False</td>\n",
       "      <td>NaN</td>\n",
       "      <td>NaN</td>\n",
       "      <td>NaN</td>\n",
       "      <td>999,999</td>\n",
       "      <td>NaN</td>\n",
       "      <td>NaN</td>\n",
       "      <td>00:54:44</td>\n",
       "      <td>0</td>\n",
       "    </tr>\n",
       "    <tr>\n",
       "      <th>4</th>\n",
       "      <td>28</td>\n",
       "      <td>06/04/2023</td>\n",
       "      <td>2023-06-04-LXV-NBR-01.IGC</td>\n",
       "      <td>VENTUS 3F</td>\n",
       "      <td>4:13:53</td>\n",
       "      <td>17:07:46</td>\n",
       "      <td>212139</td>\n",
       "      <td>HOME</td>\n",
       "      <td>301</td>\n",
       "      <td>5698[5318]</td>\n",
       "      <td>...</td>\n",
       "      <td>80.7</td>\n",
       "      <td>True</td>\n",
       "      <td>64.16</td>\n",
       "      <td>83.13</td>\n",
       "      <td>75.09</td>\n",
       "      <td>NaN</td>\n",
       "      <td>609</td>\n",
       "      <td>NaN</td>\n",
       "      <td>00:10:16</td>\n",
       "      <td>0</td>\n",
       "    </tr>\n",
       "  </tbody>\n",
       "</table>\n",
       "<p>5 rows × 63 columns</p>\n",
       "</div>"
      ],
      "text/plain": [
       "   index Date (MM/DD/YYYY)                       File                  Gtype  \\\n",
       "0     13        08/18/2020  2020-08-18-CNI-20Y-01.IGC  ASW 27-18 E (ASG-29E)   \n",
       "1     15        06/27/2024               46RGJUM1.IGC              VENTUS 3F   \n",
       "2     24        06/29/2018  2018-06-29-NKL-10Q-01.IGC  ASW 27-18 E (ASG-29E)   \n",
       "3     25        06/09/2018  2018-06-09-CNI-20E-01.IGC  ASW 27-18 E (ASG-29E)   \n",
       "4     28        06/04/2023  2023-06-04-LXV-NBR-01.IGC              VENTUS 3F   \n",
       "\n",
       "  Flight Time Start Time  End Time Landing  Start_Alt (ft MSL)  \\\n",
       "0     3:37:01   16:44:59    202200    HOME                 652   \n",
       "1     3:42:29   19:37:03    231932    HOME                3713   \n",
       "2     3:18:46   18:38:35    215721    HOME                 301   \n",
       "3     2:39:52   19:31:32    221124    HOME                1578   \n",
       "4     4:13:53   17:07:46    212139    HOME                 301   \n",
       "\n",
       "  Max Altitude (ft MSL/ft AGL)  ...  All_Post_Run_Avg_TAS_knots  \\\n",
       "0                   7208[5847]  ...                        65.1   \n",
       "1                  11335[8058]  ...                        78.7   \n",
       "2                   4576[4373]  ...                        57.5   \n",
       "3                   5885[4203]  ...                   59.1,60.6   \n",
       "4                   5698[5318]  ...                        80.7   \n",
       "\n",
       "   Circling_Segment_Found  Min_Speed_While_Engine_Running_knots  \\\n",
       "0                    True                                   NaN   \n",
       "1                    True                                   NaN   \n",
       "2                    True                                   NaN   \n",
       "3                   False                                   NaN   \n",
       "4                    True                                 64.16   \n",
       "\n",
       "  Max_Speed_While_Engine_Running_knots Avg_Speed_While_Engine_Running_knots  \\\n",
       "0                                  NaN                                  NaN   \n",
       "1                                  NaN                                  NaN   \n",
       "2                                  NaN                                  NaN   \n",
       "3                                  NaN                                  NaN   \n",
       "4                                83.13                                75.09   \n",
       "\n",
       "  max_noise_ENL max_noise_MOP max_noise_RPM time_difference  \\\n",
       "0           999           NaN           NaN        00:12:06   \n",
       "1           921           NaN           NaN        00:00:00   \n",
       "2           999           NaN           NaN        00:09:03   \n",
       "3       999,999           NaN           NaN        00:54:44   \n",
       "4           NaN           609           NaN        00:10:16   \n",
       "\n",
       "  First_Event_LessThan_5min_into_flight  \n",
       "0                                     0  \n",
       "1                                     1  \n",
       "2                                     0  \n",
       "3                                     0  \n",
       "4                                     0  \n",
       "\n",
       "[5 rows x 63 columns]"
      ]
     },
     "execution_count": 9,
     "metadata": {},
     "output_type": "execute_result"
    }
   ],
   "source": [
    "df.head(5)"
   ]
  },
  {
   "cell_type": "code",
   "execution_count": 10,
   "id": "ca4567b0-c036-4d8c-ad64-74899c3b0679",
   "metadata": {
    "tags": []
   },
   "outputs": [
    {
     "name": "stderr",
     "output_type": "stream",
     "text": [
      "/home/vuh5mk/.local/lib/python3.11/site-packages/pandas/core/indexes/base.py:7833: RuntimeWarning: invalid value encountered in cast\n",
      "  values = values.astype(str)\n"
     ]
    }
   ],
   "source": [
    "df.to_csv('transformed data 600 500 50/updated_flights_final.csv',sep='\\t', index=False)"
   ]
  },
  {
   "cell_type": "markdown",
   "id": "8109bd44-9590-40dd-9a09-58d519222611",
   "metadata": {},
   "source": [
    "### Increased by 100 for Thresholds"
   ]
  },
  {
   "cell_type": "code",
   "execution_count": 11,
   "id": "d8b87044-8554-4577-877b-e45e2008f715",
   "metadata": {
    "tags": []
   },
   "outputs": [],
   "source": [
    "## Final Flights data\n",
    "df = pd.read_csv('transformed data 700 600 150/updated_flights_final.csv', sep=\"\\t\", quoting=csv.QUOTE_ALL)"
   ]
  },
  {
   "cell_type": "code",
   "execution_count": 12,
   "id": "cf3c37d2-0506-4d69-9607-6c83fa7a3315",
   "metadata": {
    "tags": []
   },
   "outputs": [
    {
     "data": {
      "text/plain": [
       "Index(['index', 'Date (MM/DD/YYYY)', 'File', 'Gtype', 'Flight Time',\n",
       "       'Start Time', 'End Time', 'Landing', 'Start_Alt (ft MSL)',\n",
       "       'Max Altitude (ft MSL/ft AGL)', 'Surface Height (ft MSL)',\n",
       "       'Pressure Altitude (ft MSL)', 'Offset (ft)', 'Sensor Info',\n",
       "       'ENL_Engine_Run_Start_Times', 'MOP_Engine_Run_Start_Times',\n",
       "       'RPM_Engine_Run_Start_Times', 'ENL_Engine_Run_Altitudes_MSL',\n",
       "       'MOP_Engine_Run_Altitudes_MSL', 'RPM_Engine_Run_Altitudes_MSL',\n",
       "       'ENL_Engine_Run_Altitudes_AGL', 'MOP_Engine_Run_Altitudes_AGL',\n",
       "       'RPM_Engine_Run_Altitudes_AGL', 'ENL_Noise_Registration_Times',\n",
       "       'MOP_Noise_Registration_Times', 'RPM_Noise_Registration_Times',\n",
       "       'ENL_Noise_Registration_Altitudes_AGL',\n",
       "       'MOP_Noise_Registration_Altitudes_AGL',\n",
       "       'RPM_Noise_Registration_Altitudes_AGL', 'first_event_time',\n",
       "       'event_type', 'event_sensor', 'first_event_datetime',\n",
       "       'flight_start_datetime', 'window_start', 'window_end',\n",
       "       'engine_run_agls', 'altitude_rate_pre_event_window (ft/s)',\n",
       "       'distance_traveled_during_window (miles)',\n",
       "       'is_circling_during_pre_event_window',\n",
       "       'terrain_elev_at_engine_run (ft)', 'terrain_label_at_engine_run',\n",
       "       'Engine_Start_Above_1000ft', 'engine_run_times (s)',\n",
       "       'height_gain_loss (ft)', 'avg_speed_while_engine_running (knots)',\n",
       "       'min_speed_while_engine_running (knots)',\n",
       "       'max_speed_while_engine_running (knots)', 'All_Min_TAS_knots',\n",
       "       'All_Max_TAS_knots', 'All_Avg_TAS_knots', 'All_Post_Run_Min_TAS_knots',\n",
       "       'All_Post_Run_Max_TAS_knots', 'All_Post_Run_Avg_TAS_knots',\n",
       "       'Circling_Segment_Found', 'Min_Speed_While_Engine_Running_knots',\n",
       "       'Max_Speed_While_Engine_Running_knots',\n",
       "       'Avg_Speed_While_Engine_Running_knots', 'max_noise_ENL',\n",
       "       'max_noise_MOP', 'max_noise_RPM'],\n",
       "      dtype='object')"
      ]
     },
     "execution_count": 12,
     "metadata": {},
     "output_type": "execute_result"
    }
   ],
   "source": [
    "df.columns"
   ]
  },
  {
   "cell_type": "code",
   "execution_count": 13,
   "id": "e4cd4ee8-54d2-47d8-94ff-12fbdb36e7e7",
   "metadata": {
    "tags": []
   },
   "outputs": [],
   "source": [
    "df['Start Time'] = pd.to_datetime(df['Start Time'].astype(str),format=\"%H%M%S\").dt.time"
   ]
  },
  {
   "cell_type": "code",
   "execution_count": 14,
   "id": "9785195b-f058-409e-9859-095df229fe25",
   "metadata": {
    "tags": []
   },
   "outputs": [],
   "source": [
    "df['first_event_time'] = pd.to_datetime(df['first_event_time'].astype(str),format=\"%H%M%S\").dt.time"
   ]
  },
  {
   "cell_type": "code",
   "execution_count": 15,
   "id": "55a7d4ae-0c45-4c0f-b8df-db5c51c831b7",
   "metadata": {
    "tags": []
   },
   "outputs": [],
   "source": [
    "df['time_difference'] = df.apply(lambda row: \n",
    "    pd.to_datetime(str(row['first_event_time'])) - pd.to_datetime(str(row['Start Time'])), axis=1)"
   ]
  },
  {
   "cell_type": "code",
   "execution_count": 16,
   "id": "125f51c5-acff-4569-84fb-6a6c84ad6de9",
   "metadata": {
    "tags": []
   },
   "outputs": [
    {
     "data": {
      "text/plain": [
       "0    00:12:06\n",
       "1    00:00:00\n",
       "2    00:09:03\n",
       "3    00:54:44\n",
       "4    00:10:16\n",
       "5    04:30:44\n",
       "6    04:04:34\n",
       "7    00:10:12\n",
       "8    01:43:56\n",
       "9    00:03:52\n",
       "Name: time_difference, dtype: object"
      ]
     },
     "execution_count": 16,
     "metadata": {},
     "output_type": "execute_result"
    }
   ],
   "source": [
    "df['time_difference'] = df['time_difference'].astype(str).str.split('0 days ').str[-1]\n",
    "df['time_difference'].head(10)"
   ]
  },
  {
   "cell_type": "code",
   "execution_count": 17,
   "id": "f2446fe8-7431-449a-bc29-a4df4c10706b",
   "metadata": {
    "tags": []
   },
   "outputs": [
    {
     "data": {
      "text/plain": [
       "0    0\n",
       "1    1\n",
       "2    0\n",
       "3    0\n",
       "4    0\n",
       "5    0\n",
       "6    0\n",
       "7    0\n",
       "8    0\n",
       "9    1\n",
       "Name: First_Event_LessThan_5min_into_flight, dtype: int64"
      ]
     },
     "execution_count": 17,
     "metadata": {},
     "output_type": "execute_result"
    }
   ],
   "source": [
    "df['First_Event_LessThan_5min_into_flight'] = df['time_difference'].between('00:00:00','00:05:00')\n",
    "df['First_Event_LessThan_5min_into_flight'] = df['First_Event_LessThan_5min_into_flight'].astype(int)\n",
    "df['First_Event_LessThan_5min_into_flight'].head(10)"
   ]
  },
  {
   "cell_type": "code",
   "execution_count": 18,
   "id": "260954e5-7a2c-4236-b5e6-cc9f6e584540",
   "metadata": {
    "tags": []
   },
   "outputs": [
    {
     "data": {
      "text/html": [
       "<div>\n",
       "<style scoped>\n",
       "    .dataframe tbody tr th:only-of-type {\n",
       "        vertical-align: middle;\n",
       "    }\n",
       "\n",
       "    .dataframe tbody tr th {\n",
       "        vertical-align: top;\n",
       "    }\n",
       "\n",
       "    .dataframe thead th {\n",
       "        text-align: right;\n",
       "    }\n",
       "</style>\n",
       "<table border=\"1\" class=\"dataframe\">\n",
       "  <thead>\n",
       "    <tr style=\"text-align: right;\">\n",
       "      <th></th>\n",
       "      <th>index</th>\n",
       "      <th>Date (MM/DD/YYYY)</th>\n",
       "      <th>File</th>\n",
       "      <th>Gtype</th>\n",
       "      <th>Flight Time</th>\n",
       "      <th>Start Time</th>\n",
       "      <th>End Time</th>\n",
       "      <th>Landing</th>\n",
       "      <th>Start_Alt (ft MSL)</th>\n",
       "      <th>Max Altitude (ft MSL/ft AGL)</th>\n",
       "      <th>...</th>\n",
       "      <th>All_Post_Run_Avg_TAS_knots</th>\n",
       "      <th>Circling_Segment_Found</th>\n",
       "      <th>Min_Speed_While_Engine_Running_knots</th>\n",
       "      <th>Max_Speed_While_Engine_Running_knots</th>\n",
       "      <th>Avg_Speed_While_Engine_Running_knots</th>\n",
       "      <th>max_noise_ENL</th>\n",
       "      <th>max_noise_MOP</th>\n",
       "      <th>max_noise_RPM</th>\n",
       "      <th>time_difference</th>\n",
       "      <th>First_Event_LessThan_5min_into_flight</th>\n",
       "    </tr>\n",
       "  </thead>\n",
       "  <tbody>\n",
       "    <tr>\n",
       "      <th>0</th>\n",
       "      <td>13</td>\n",
       "      <td>08/18/2020</td>\n",
       "      <td>2020-08-18-CNI-20Y-01.IGC</td>\n",
       "      <td>ASW 27-18 E (ASG-29E)</td>\n",
       "      <td>3:37:01</td>\n",
       "      <td>16:44:59</td>\n",
       "      <td>202200</td>\n",
       "      <td>HOME</td>\n",
       "      <td>652</td>\n",
       "      <td>7208[5847]</td>\n",
       "      <td>...</td>\n",
       "      <td>65.1</td>\n",
       "      <td>True</td>\n",
       "      <td>NaN</td>\n",
       "      <td>NaN</td>\n",
       "      <td>NaN</td>\n",
       "      <td>999</td>\n",
       "      <td>NaN</td>\n",
       "      <td>NaN</td>\n",
       "      <td>00:12:06</td>\n",
       "      <td>0</td>\n",
       "    </tr>\n",
       "    <tr>\n",
       "      <th>1</th>\n",
       "      <td>15</td>\n",
       "      <td>06/27/2024</td>\n",
       "      <td>46RGJUM1.IGC</td>\n",
       "      <td>VENTUS 3F</td>\n",
       "      <td>3:42:29</td>\n",
       "      <td>19:37:03</td>\n",
       "      <td>231932</td>\n",
       "      <td>HOME</td>\n",
       "      <td>3713</td>\n",
       "      <td>11335[8058]</td>\n",
       "      <td>...</td>\n",
       "      <td>78.7</td>\n",
       "      <td>True</td>\n",
       "      <td>NaN</td>\n",
       "      <td>NaN</td>\n",
       "      <td>NaN</td>\n",
       "      <td>921</td>\n",
       "      <td>NaN</td>\n",
       "      <td>NaN</td>\n",
       "      <td>00:00:00</td>\n",
       "      <td>1</td>\n",
       "    </tr>\n",
       "    <tr>\n",
       "      <th>2</th>\n",
       "      <td>24</td>\n",
       "      <td>06/29/2018</td>\n",
       "      <td>2018-06-29-NKL-10Q-01.IGC</td>\n",
       "      <td>ASW 27-18 E (ASG-29E)</td>\n",
       "      <td>3:18:46</td>\n",
       "      <td>18:38:35</td>\n",
       "      <td>215721</td>\n",
       "      <td>HOME</td>\n",
       "      <td>301</td>\n",
       "      <td>4576[4373]</td>\n",
       "      <td>...</td>\n",
       "      <td>57.5</td>\n",
       "      <td>True</td>\n",
       "      <td>NaN</td>\n",
       "      <td>NaN</td>\n",
       "      <td>NaN</td>\n",
       "      <td>999</td>\n",
       "      <td>NaN</td>\n",
       "      <td>NaN</td>\n",
       "      <td>00:09:03</td>\n",
       "      <td>0</td>\n",
       "    </tr>\n",
       "    <tr>\n",
       "      <th>3</th>\n",
       "      <td>25</td>\n",
       "      <td>06/09/2018</td>\n",
       "      <td>2018-06-09-CNI-20E-01.IGC</td>\n",
       "      <td>ASW 27-18 E (ASG-29E)</td>\n",
       "      <td>2:39:52</td>\n",
       "      <td>19:31:32</td>\n",
       "      <td>221124</td>\n",
       "      <td>HOME</td>\n",
       "      <td>1578</td>\n",
       "      <td>5885[4203]</td>\n",
       "      <td>...</td>\n",
       "      <td>59.1,60.6</td>\n",
       "      <td>False</td>\n",
       "      <td>NaN</td>\n",
       "      <td>NaN</td>\n",
       "      <td>NaN</td>\n",
       "      <td>999,999</td>\n",
       "      <td>NaN</td>\n",
       "      <td>NaN</td>\n",
       "      <td>00:54:44</td>\n",
       "      <td>0</td>\n",
       "    </tr>\n",
       "    <tr>\n",
       "      <th>4</th>\n",
       "      <td>28</td>\n",
       "      <td>06/04/2023</td>\n",
       "      <td>2023-06-04-LXV-NBR-01.IGC</td>\n",
       "      <td>VENTUS 3F</td>\n",
       "      <td>4:13:53</td>\n",
       "      <td>17:07:46</td>\n",
       "      <td>212139</td>\n",
       "      <td>HOME</td>\n",
       "      <td>301</td>\n",
       "      <td>5698[5318]</td>\n",
       "      <td>...</td>\n",
       "      <td>80.7</td>\n",
       "      <td>True</td>\n",
       "      <td>64.16</td>\n",
       "      <td>83.13</td>\n",
       "      <td>75.09</td>\n",
       "      <td>NaN</td>\n",
       "      <td>609</td>\n",
       "      <td>NaN</td>\n",
       "      <td>00:10:16</td>\n",
       "      <td>0</td>\n",
       "    </tr>\n",
       "  </tbody>\n",
       "</table>\n",
       "<p>5 rows × 63 columns</p>\n",
       "</div>"
      ],
      "text/plain": [
       "   index Date (MM/DD/YYYY)                       File                  Gtype  \\\n",
       "0     13        08/18/2020  2020-08-18-CNI-20Y-01.IGC  ASW 27-18 E (ASG-29E)   \n",
       "1     15        06/27/2024               46RGJUM1.IGC              VENTUS 3F   \n",
       "2     24        06/29/2018  2018-06-29-NKL-10Q-01.IGC  ASW 27-18 E (ASG-29E)   \n",
       "3     25        06/09/2018  2018-06-09-CNI-20E-01.IGC  ASW 27-18 E (ASG-29E)   \n",
       "4     28        06/04/2023  2023-06-04-LXV-NBR-01.IGC              VENTUS 3F   \n",
       "\n",
       "  Flight Time Start Time  End Time Landing  Start_Alt (ft MSL)  \\\n",
       "0     3:37:01   16:44:59    202200    HOME                 652   \n",
       "1     3:42:29   19:37:03    231932    HOME                3713   \n",
       "2     3:18:46   18:38:35    215721    HOME                 301   \n",
       "3     2:39:52   19:31:32    221124    HOME                1578   \n",
       "4     4:13:53   17:07:46    212139    HOME                 301   \n",
       "\n",
       "  Max Altitude (ft MSL/ft AGL)  ...  All_Post_Run_Avg_TAS_knots  \\\n",
       "0                   7208[5847]  ...                        65.1   \n",
       "1                  11335[8058]  ...                        78.7   \n",
       "2                   4576[4373]  ...                        57.5   \n",
       "3                   5885[4203]  ...                   59.1,60.6   \n",
       "4                   5698[5318]  ...                        80.7   \n",
       "\n",
       "   Circling_Segment_Found  Min_Speed_While_Engine_Running_knots  \\\n",
       "0                    True                                   NaN   \n",
       "1                    True                                   NaN   \n",
       "2                    True                                   NaN   \n",
       "3                   False                                   NaN   \n",
       "4                    True                                 64.16   \n",
       "\n",
       "  Max_Speed_While_Engine_Running_knots Avg_Speed_While_Engine_Running_knots  \\\n",
       "0                                  NaN                                  NaN   \n",
       "1                                  NaN                                  NaN   \n",
       "2                                  NaN                                  NaN   \n",
       "3                                  NaN                                  NaN   \n",
       "4                                83.13                                75.09   \n",
       "\n",
       "  max_noise_ENL max_noise_MOP max_noise_RPM time_difference  \\\n",
       "0           999           NaN           NaN        00:12:06   \n",
       "1           921           NaN           NaN        00:00:00   \n",
       "2           999           NaN           NaN        00:09:03   \n",
       "3       999,999           NaN           NaN        00:54:44   \n",
       "4           NaN           609           NaN        00:10:16   \n",
       "\n",
       "  First_Event_LessThan_5min_into_flight  \n",
       "0                                     0  \n",
       "1                                     1  \n",
       "2                                     0  \n",
       "3                                     0  \n",
       "4                                     0  \n",
       "\n",
       "[5 rows x 63 columns]"
      ]
     },
     "execution_count": 18,
     "metadata": {},
     "output_type": "execute_result"
    }
   ],
   "source": [
    "df.head(5)"
   ]
  },
  {
   "cell_type": "code",
   "execution_count": 19,
   "id": "50e24606-08f2-45f9-ab16-8a887f97a90c",
   "metadata": {
    "tags": []
   },
   "outputs": [
    {
     "name": "stderr",
     "output_type": "stream",
     "text": [
      "/home/vuh5mk/.local/lib/python3.11/site-packages/pandas/core/indexes/base.py:7833: RuntimeWarning: invalid value encountered in cast\n",
      "  values = values.astype(str)\n"
     ]
    }
   ],
   "source": [
    "df.to_csv('transformed data 700 600 150/updated_flights_final.csv',sep='\\t', index=False)"
   ]
  },
  {
   "cell_type": "code",
   "execution_count": null,
   "id": "3f1580e3-29fd-420e-bb27-7781bba62fd7",
   "metadata": {},
   "outputs": [],
   "source": []
  }
 ],
 "metadata": {
  "kernelspec": {
   "display_name": "Python 3 (ipykernel)",
   "language": "python",
   "name": "python3"
  },
  "language_info": {
   "codemirror_mode": {
    "name": "ipython",
    "version": 3
   },
   "file_extension": ".py",
   "mimetype": "text/x-python",
   "name": "python",
   "nbconvert_exporter": "python",
   "pygments_lexer": "ipython3",
   "version": "3.11.4"
  }
 },
 "nbformat": 4,
 "nbformat_minor": 5
}
