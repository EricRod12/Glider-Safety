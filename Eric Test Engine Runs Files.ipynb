{
 "cells": [
  {
   "cell_type": "code",
   "execution_count": 1,
   "id": "e592e30d-c63a-40ab-9395-34c0d0db08fc",
   "metadata": {},
   "outputs": [],
   "source": [
    "import pandas as pd\n",
    "import numpy as np\n",
    "import seaborn as sns\n",
    "import matplotlib.pyplot as plt\n",
    "import seaborn as sns\n",
    "import csv"
   ]
  },
  {
   "cell_type": "code",
   "execution_count": 2,
   "id": "dab2ba2c-fcce-4ba1-b16e-490148242c13",
   "metadata": {},
   "outputs": [],
   "source": [
    "## Final Flights data\n",
    "df = pd.read_csv('transformed data 700 600 150/engine_runs_table.csv')"
   ]
  },
  {
   "cell_type": "code",
   "execution_count": null,
   "id": "ffda2ec2-5f1c-4ff9-ade9-ffbff5096f93",
   "metadata": {},
   "outputs": [],
   "source": []
  },
  {
   "cell_type": "code",
   "execution_count": 3,
   "id": "3ae226da-910b-4cd6-adb3-a93cddb660a0",
   "metadata": {},
   "outputs": [
    {
     "data": {
      "text/plain": [
       "0      16:57:05\n",
       "1      19:37:03\n",
       "2      18:47:38\n",
       "3      20:26:16\n",
       "4      20:30:56\n",
       "         ...   \n",
       "868    19:17:17\n",
       "869    21:15:25\n",
       "870    20:27:32\n",
       "871    17:48:28\n",
       "872    21:11:40\n",
       "Name: Engine_Run_Start_Times, Length: 873, dtype: object"
      ]
     },
     "execution_count": 3,
     "metadata": {},
     "output_type": "execute_result"
    }
   ],
   "source": [
    "df['Engine_Run_Start_Times'] = pd.to_datetime(df['Engine_Run_Start_Times'].astype(str),format=\"%H%M%S\").dt.time\n",
    "df['Engine_Run_Start_Times']"
   ]
  },
  {
   "cell_type": "code",
   "execution_count": 4,
   "id": "dd98f851-6095-45d6-bc4a-fa0632c47f36",
   "metadata": {},
   "outputs": [
    {
     "data": {
      "text/plain": [
       "0      16:57:05\n",
       "1      19:37:03\n",
       "2      18:47:38\n",
       "3      20:26:16\n",
       "4      20:26:16\n",
       "         ...   \n",
       "868    19:17:17\n",
       "869    21:15:25\n",
       "870    20:27:32\n",
       "871    21:11:40\n",
       "872    21:11:40\n",
       "Name: first_event_time, Length: 873, dtype: object"
      ]
     },
     "execution_count": 4,
     "metadata": {},
     "output_type": "execute_result"
    }
   ],
   "source": [
    "df['Start Time'] = pd.to_datetime(df['Start Time'].astype(str),format=\"%H%M%S\").dt.time\n",
    "df['Start Time']\n",
    "df['first_event_time'] = pd.to_datetime(df['first_event_time'].astype(str),format=\"%H%M%S\").dt.time\n",
    "df['first_event_time']"
   ]
  },
  {
   "cell_type": "code",
   "execution_count": 5,
   "id": "b3fb9576-28cc-465e-a2ec-a25ccac63927",
   "metadata": {},
   "outputs": [
    {
     "name": "stdout",
     "output_type": "stream",
     "text": [
      "  Engine_Run_Start_Times Start Time time_difference\n",
      "0               16:57:05   16:44:59        00:12:06\n",
      "1               19:37:03   19:37:03        00:00:00\n",
      "2               18:47:38   18:38:35        00:09:03\n",
      "3               20:26:16   19:31:32        00:54:44\n",
      "4               20:30:56   19:31:32        00:59:24\n"
     ]
    }
   ],
   "source": [
    "df['time_difference'] = df.apply(lambda row: \n",
    "    pd.to_datetime(str(row['Engine_Run_Start_Times'])) - pd.to_datetime(str(row['Start Time'])), axis=1)\n",
    "\n",
    "# Convert the timedelta column to string, and remove the \"0 days \" prefix if present.\n",
    "df['time_difference'] = df['time_difference'].astype(str).str.replace(\"0 days \", \"\", regex=False)\n",
    "\n",
    "# Optionally display the results.\n",
    "print(df[['Engine_Run_Start_Times', 'Start Time', 'time_difference']].head())"
   ]
  },
  {
   "cell_type": "code",
   "execution_count": 6,
   "id": "9cc11c0e-2d11-4e86-aa03-ff38f9cb4e06",
   "metadata": {},
   "outputs": [
    {
     "data": {
      "text/plain": [
       "0    0\n",
       "1    1\n",
       "2    0\n",
       "3    0\n",
       "4    0\n",
       "5    0\n",
       "6    0\n",
       "7    0\n",
       "8    0\n",
       "9    0\n",
       "Name: Engine_Event_LessThan_5min_into_flight, dtype: int64"
      ]
     },
     "execution_count": 6,
     "metadata": {},
     "output_type": "execute_result"
    }
   ],
   "source": [
    "df['Engine_Event_LessThan_5min_into_flight'] = df['time_difference'].between('00:00:00','00:05:00')\n",
    "df['Engine_Event_LessThan_5min_into_flight'] = df['Engine_Event_LessThan_5min_into_flight'].astype(int)\n",
    "df['Engine_Event_LessThan_5min_into_flight'].head(10)"
   ]
  },
  {
   "cell_type": "code",
   "execution_count": 7,
   "id": "235f074c-d0b0-4c31-9945-244b9ba73504",
   "metadata": {},
   "outputs": [
    {
     "name": "stdout",
     "output_type": "stream",
     "text": [
      "  ENL_Engine_Run_Start_Times MOP_Engine_Run_Start_Times  \\\n",
      "0                     165705                        NaN   \n",
      "1                     193703                        NaN   \n",
      "2                     184738                        NaN   \n",
      "3                     202616                        NaN   \n",
      "4                     203056                        NaN   \n",
      "\n",
      "  RPM_Engine_Run_Start_Times  \n",
      "0                        NaN  \n",
      "1                        NaN  \n",
      "2                        NaN  \n",
      "3                        NaN  \n",
      "4                        NaN  \n"
     ]
    }
   ],
   "source": [
    "# Suppose df is your DataFrame.\n",
    "cols = [\"ENL_Engine_Run_Start_Times\", \"MOP_Engine_Run_Start_Times\", \"RPM_Engine_Run_Start_Times\"]\n",
    "\n",
    "for col in cols:\n",
    "    # For each non-null value, convert to int then to string so that decimals are dropped.\n",
    "    df[col] = df[col].apply(lambda x: str(int(x)) if pd.notna(x) else x)\n",
    "\n",
    "# Optionally, print the first few rows to verify.\n",
    "print(df[cols].head())"
   ]
  },
  {
   "cell_type": "code",
   "execution_count": 8,
   "id": "130d033e-064d-4971-bf88-6da645b0aaee",
   "metadata": {},
   "outputs": [
    {
     "name": "stderr",
     "output_type": "stream",
     "text": [
      "/home/vuh5mk/.local/lib/python3.11/site-packages/pandas/core/indexes/base.py:7833: RuntimeWarning: invalid value encountered in cast\n",
      "  values = values.astype(str)\n"
     ]
    }
   ],
   "source": [
    "df.to_csv('transformed data 700 600 150/engine_runs_table_final.csv')"
   ]
  }
 ],
 "metadata": {
  "kernelspec": {
   "display_name": "Python 3 (ipykernel)",
   "language": "python",
   "name": "python3"
  },
  "language_info": {
   "codemirror_mode": {
    "name": "ipython",
    "version": 3
   },
   "file_extension": ".py",
   "mimetype": "text/x-python",
   "name": "python",
   "nbconvert_exporter": "python",
   "pygments_lexer": "ipython3",
   "version": "3.11.4"
  }
 },
 "nbformat": 4,
 "nbformat_minor": 5
}
