{
 "cells": [
  {
   "cell_type": "markdown",
   "id": "5123d099-a664-4053-bf86-4d3bd91f144e",
   "metadata": {},
   "source": [
    "cd ~\n",
    "cd ..\n",
    "cd ..\n",
    "cd project/SDS/capstones_basener/glider_safety\n",
    "conda activate gdal_test\n"
   ]
  },
  {
   "cell_type": "code",
   "execution_count": null,
   "id": "74af841f-9995-4d22-8cc2-45b4fcbe056c",
   "metadata": {},
   "outputs": [],
   "source": [
    "python copy_tas_files.py"
   ]
  },
  {
   "cell_type": "markdown",
   "id": "2ae0d059-076a-4de2-a692-23e44cb658e0",
   "metadata": {},
   "source": [
    "python filter_flights_engine_runs.py capstone_test filtered"
   ]
  },
  {
   "cell_type": "markdown",
   "id": "9e59db9e-6cf4-41b3-82f4-2eb507a30be5",
   "metadata": {},
   "source": [
    "python filter_MOP_or_RPM_only.py capstone_test filtered"
   ]
  },
  {
   "cell_type": "markdown",
   "id": "1f8889a2-327c-40d8-86cb-f7239cf6de1f",
   "metadata": {},
   "source": [
    "python filter_flights.py capstone_test filtered"
   ]
  },
  {
   "cell_type": "markdown",
   "id": "858ca8d5-72c4-4866-92dd-6ecbcabd05b9",
   "metadata": {},
   "source": [
    "python \"glider-engine_edited.py\" filtered"
   ]
  },
  {
   "cell_type": "markdown",
   "id": "cfaab187-bf2b-4641-8ef7-725e2f179370",
   "metadata": {},
   "source": [
    "python \"glider-engine_edited.py\" capstone_test"
   ]
  },
  {
   "cell_type": "markdown",
   "id": "3280803c-4293-47dc-b300-a67fd5adf907",
   "metadata": {},
   "source": [
    "python \"glider-engine.py\" filtered/test"
   ]
  },
  {
   "cell_type": "markdown",
   "id": "f6d79cf8-5582-42da-9cd1-51e501f217e1",
   "metadata": {},
   "source": [
    "python \"glider-engine.py\" filtered"
   ]
  },
  {
   "cell_type": "code",
   "execution_count": null,
   "id": "959d0218-0517-4125-a78c-595cca889072",
   "metadata": {},
   "outputs": [],
   "source": [
    "python add_max_noise_columns.py \"transformed data 600 500 50/flights_final_with_estimates.csv\" \"filtered,filtered_wgc\" \"transformed data 600 500 50/updated_flights_final.csv\" --verbose\n",
    "python add_max_noise_columns.py \"transformed data 700 600 150/flights_final_with_estimates.csv\" \"filtered,filtered_wgc\" \"transformed data 700 600 150/updated_flights_final.csv\" --verbose\n"
   ]
  },
  {
   "cell_type": "code",
   "execution_count": 2,
   "id": "be1cbd91-468b-407c-ae17-602404002022",
   "metadata": {},
   "outputs": [
    {
     "name": "stdout",
     "output_type": "stream",
     "text": [
      "Copying the first 500 files to 'capstone_test'...\n",
      "Copy complete. Now you can test on the smaller 'capstone_test' folder.\n"
     ]
    }
   ],
   "source": [
    "import os\n",
    "import glob\n",
    "import shutil\n",
    "\n",
    "source_folder = \"capstone\"\n",
    "target_folder = \"capstone_test\"\n",
    "os.makedirs(target_folder, exist_ok=True)\n",
    "\n",
    "# Gather all .IGC / .igc files in the capstone folder\n",
    "igc_files = glob.glob(os.path.join(source_folder, \"*.IGC\")) \\\n",
    "          + glob.glob(os.path.join(source_folder, \"*.igc\"))\n",
    "\n",
    "# Sort them for consistent ordering\n",
    "igc_files = sorted(igc_files)\n",
    "\n",
    "# Take the first 6000\n",
    "first_10 = igc_files[:500]\n",
    "\n",
    "print(f\"Copying the first {len(first_10)} files to '{target_folder}'...\")\n",
    "for f in first_10:\n",
    "    shutil.copy(f, target_folder)\n",
    "    \n",
    "print(\"Copy complete. Now you can test on the smaller 'capstone_test' folder.\")\n"
   ]
  },
  {
   "cell_type": "code",
   "execution_count": 1,
   "id": "398d9789-2329-4a1e-beb0-494d2d821b04",
   "metadata": {},
   "outputs": [
    {
     "name": "stdout",
     "output_type": "stream",
     "text": [
      "File '16TVACN1.igc' has been copied to 'capstone_test1'.\n"
     ]
    }
   ],
   "source": [
    "import os\n",
    "import shutil\n",
    "\n",
    "source_folder = \"capstone\"\n",
    "target_folder = \"capstone_test1\"\n",
    "os.makedirs(target_folder, exist_ok=True)\n",
    "\n",
    "# Specify the file you want to move\n",
    "file_to_move = \"16TVACN1.igc\"\n",
    "source_file_path = os.path.join(source_folder, file_to_move)\n",
    "\n",
    "# Check if the file exists in the source folder\n",
    "if os.path.exists(source_file_path):\n",
    "    shutil.copy(source_file_path, target_folder)\n",
    "    print(f\"File '{file_to_move}' has been copied to '{target_folder}'.\")\n",
    "else:\n",
    "    print(f\"File '{file_to_move}' does not exist in the source folder '{source_folder}'.\")\n"
   ]
  },
  {
   "cell_type": "code",
   "execution_count": null,
   "id": "4c310ba8-9e54-4d84-a4e7-6c34edfdb254",
   "metadata": {},
   "outputs": [],
   "source": []
  }
 ],
 "metadata": {
  "kernelspec": {
   "display_name": "Python 3 (ipykernel)",
   "language": "python",
   "name": "python3"
  },
  "language_info": {
   "codemirror_mode": {
    "name": "ipython",
    "version": 3
   },
   "file_extension": ".py",
   "mimetype": "text/x-python",
   "name": "python",
   "nbconvert_exporter": "python",
   "pygments_lexer": "ipython3",
   "version": "3.11.4"
  }
 },
 "nbformat": 4,
 "nbformat_minor": 5
}
