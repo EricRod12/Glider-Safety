{
 "cells": [
  {
   "cell_type": "code",
   "execution_count": 1,
   "id": "7c48ee8c-6e7b-4428-b972-a7bc804b6251",
   "metadata": {
    "tags": []
   },
   "outputs": [],
   "source": [
    "import pandas as pd\n",
    "import numpy as np\n",
    "import seaborn as sns\n",
    "import matplotlib.pyplot as plt\n",
    "import seaborn as sns\n",
    "import csv"
   ]
  },
  {
   "cell_type": "markdown",
   "id": "c763ab78-e703-4d13-a6a8-a810f5c33733",
   "metadata": {},
   "source": [
    "### Default Thresholds"
   ]
  },
  {
   "cell_type": "code",
   "execution_count": 5,
   "id": "b47eeac1-abee-4a80-9366-bdd558936fc1",
   "metadata": {
    "tags": []
   },
   "outputs": [],
   "source": [
    "## Final Flights data\n",
    "df = pd.read_csv('transformed data 600 500 50/updated_flights_final.csv', sep=\"\\t\", quoting=csv.QUOTE_ALL)"
   ]
  },
  {
   "cell_type": "code",
   "execution_count": 6,
   "id": "9270e106-c66b-4ecb-925d-5567844faa64",
   "metadata": {
    "tags": []
   },
   "outputs": [
    {
     "data": {
      "text/plain": [
       "Index(['index', 'Date (MM/DD/YYYY)', 'File', 'Gtype', 'Flight Time',\n",
       "       'Start Time', 'End Time', 'Landing', 'Start_Alt (ft MSL)',\n",
       "       'Max Altitude (ft MSL/ft AGL)', 'Surface Height (ft MSL)',\n",
       "       'Pressure Altitude (ft MSL)', 'Offset (ft)', 'Sensor Info',\n",
       "       'ENL_Engine_Run_Start_Times', 'MOP_Engine_Run_Start_Times',\n",
       "       'RPM_Engine_Run_Start_Times', 'ENL_Engine_Run_Altitudes_MSL',\n",
       "       'MOP_Engine_Run_Altitudes_MSL', 'RPM_Engine_Run_Altitudes_MSL',\n",
       "       'ENL_Engine_Run_Altitudes_AGL', 'MOP_Engine_Run_Altitudes_AGL',\n",
       "       'RPM_Engine_Run_Altitudes_AGL', 'ENL_Noise_Registration_Times',\n",
       "       'MOP_Noise_Registration_Times', 'RPM_Noise_Registration_Times',\n",
       "       'ENL_Noise_Registration_Altitudes_AGL',\n",
       "       'MOP_Noise_Registration_Altitudes_AGL',\n",
       "       'RPM_Noise_Registration_Altitudes_AGL', 'first_event_time',\n",
       "       'event_type', 'event_sensor', 'flight_start_datetime', 'window_start',\n",
       "       'window_end', 'altitude rate of change during pre-event window(ft/s)',\n",
       "       'steady_descent_during_pre_event_window',\n",
       "       'is_circling_during_pre_event_window',\n",
       "       'distance_traveled_during_window (miles)',\n",
       "       'terrain_label_at_first_engine_event',\n",
       "       'avg_speed_while_engine_running (knots)',\n",
       "       'min_speed_while_engine_running (knots)',\n",
       "       'max_speed_while_engine_running (knots)', 'engine_run_times (s)',\n",
       "       'height_gain_loss (ft)', 'terrain_elev_at_first_engine_event (ft)',\n",
       "       'first_engine_agl', 'Engine_Start_Above_1000ft', 'agl_all_events',\n",
       "       'first_event_datetime', 'num_engine_starts_below_1000ft_Alt',\n",
       "       'pct_engine_starts_below_1000ft_Alt', 'All_Min_TAS_knots',\n",
       "       'All_Max_TAS_knots', 'All_Avg_TAS_knots', 'All_Post_Run_Min_TAS_knots',\n",
       "       'All_Post_Run_Max_TAS_knots', 'All_Post_Run_Avg_TAS_knots',\n",
       "       'Circling_Segment_Found', 'Min_Speed_While_Engine_Running_knots',\n",
       "       'Max_Speed_While_Engine_Running_knots',\n",
       "       'Avg_Speed_While_Engine_Running_knots', 'max_noise_ENL',\n",
       "       'max_noise_MOP', 'max_noise_RPM', 'time_difference',\n",
       "       'First_Event_LessThan_5min_into_flight'],\n",
       "      dtype='object')"
      ]
     },
     "execution_count": 6,
     "metadata": {},
     "output_type": "execute_result"
    }
   ],
   "source": [
    "df.columns"
   ]
  },
  {
   "cell_type": "code",
   "execution_count": 3,
   "id": "e256f075-0098-4488-8ca7-8fa56925007f",
   "metadata": {
    "tags": []
   },
   "outputs": [
    {
     "data": {
      "text/plain": [
       "431"
      ]
     },
     "execution_count": 3,
     "metadata": {},
     "output_type": "execute_result"
    }
   ],
   "source": [
    "len(df)"
   ]
  },
  {
   "cell_type": "code",
   "execution_count": 8,
   "id": "bcd2e400-af91-4937-8923-7b809a4714be",
   "metadata": {
    "tags": []
   },
   "outputs": [],
   "source": [
    "df = df.loc[df['First_Event_LessThan_5min_into_flight'] == 0]"
   ]
  },
  {
   "cell_type": "code",
   "execution_count": 10,
   "id": "f027a573-68bf-406f-bb36-ebf7eac35eee",
   "metadata": {
    "tags": []
   },
   "outputs": [
    {
     "data": {
      "text/plain": [
       "364"
      ]
     },
     "execution_count": 10,
     "metadata": {},
     "output_type": "execute_result"
    }
   ],
   "source": [
    "len(df)"
   ]
  },
  {
   "cell_type": "code",
   "execution_count": null,
   "id": "642b32a4-2b8c-40be-9ed2-23131d3c0d3e",
   "metadata": {},
   "outputs": [],
   "source": []
  }
 ],
 "metadata": {
  "kernelspec": {
   "display_name": "Python 3 (ipykernel)",
   "language": "python",
   "name": "python3"
  },
  "language_info": {
   "codemirror_mode": {
    "name": "ipython",
    "version": 3
   },
   "file_extension": ".py",
   "mimetype": "text/x-python",
   "name": "python",
   "nbconvert_exporter": "python",
   "pygments_lexer": "ipython3",
   "version": "3.11.4"
  }
 },
 "nbformat": 4,
 "nbformat_minor": 5
}
