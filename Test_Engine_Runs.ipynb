{
 "cells": [
  {
   "cell_type": "code",
   "execution_count": 1,
   "id": "f0ea3ad6-64bb-4d4b-a201-9b358f82a289",
   "metadata": {
    "tags": []
   },
   "outputs": [],
   "source": [
    "import pandas as pd\n",
    "import numpy as np\n",
    "import seaborn as sns\n",
    "import matplotlib.pyplot as plt\n",
    "import seaborn as sns\n",
    "import csv"
   ]
  },
  {
   "cell_type": "code",
   "execution_count": 2,
   "id": "6a1609e2-f28e-49e1-a569-7d2f6cc60e07",
   "metadata": {
    "tags": []
   },
   "outputs": [],
   "source": [
    "## Final Flights data\n",
    "df = pd.read_csv('transformed data 700 600 150/flights_final_with_estimates.csv', sep=\"\\t\", quoting=csv.QUOTE_ALL)"
   ]
  },
  {
   "cell_type": "code",
   "execution_count": 3,
   "id": "fb79991b-4810-40e7-a6aa-ac1f78dc5a3f",
   "metadata": {
    "tags": []
   },
   "outputs": [
    {
     "data": {
      "text/plain": [
       "Index(['index', 'Date (MM/DD/YYYY)', 'File', 'Gtype', 'Flight Time',\n",
       "       'Start Time', 'End Time', 'Landing', 'Start_Alt (ft MSL)',\n",
       "       'Max Altitude (ft MSL/ft AGL)', 'Surface Height (ft MSL)',\n",
       "       'Pressure Altitude (ft MSL)', 'Offset (ft)', 'Sensor Info',\n",
       "       'ENL_Engine_Run_Start_Times', 'MOP_Engine_Run_Start_Times',\n",
       "       'RPM_Engine_Run_Start_Times', 'ENL_Engine_Run_Altitudes_MSL',\n",
       "       'MOP_Engine_Run_Altitudes_MSL', 'RPM_Engine_Run_Altitudes_MSL',\n",
       "       'ENL_Engine_Run_Altitudes_AGL', 'MOP_Engine_Run_Altitudes_AGL',\n",
       "       'RPM_Engine_Run_Altitudes_AGL', 'ENL_Noise_Registration_Times',\n",
       "       'MOP_Noise_Registration_Times', 'RPM_Noise_Registration_Times',\n",
       "       'ENL_Noise_Registration_Altitudes_AGL',\n",
       "       'MOP_Noise_Registration_Altitudes_AGL',\n",
       "       'RPM_Noise_Registration_Altitudes_AGL', 'first_event_time',\n",
       "       'event_type', 'event_sensor', 'flight_start_datetime', 'window_start',\n",
       "       'window_end', 'altitude rate of change during pre-event window(ft/s)',\n",
       "       'steady_descent_during_pre_event_window',\n",
       "       'is_circling_during_pre_event_window',\n",
       "       'distance_traveled_during_window (miles)',\n",
       "       'terrain_label_at_first_engine_event',\n",
       "       'avg_speed_while_engine_running (knots)',\n",
       "       'min_speed_while_engine_running (knots)',\n",
       "       'max_speed_while_engine_running (knots)', 'engine_run_times (s)',\n",
       "       'height_gain_loss (ft)', 'terrain_elev_at_first_engine_event (ft)',\n",
       "       'first_engine_agl', 'Engine_Start_Above_1000ft', 'agl_all_events',\n",
       "       'first_event_datetime', 'num_engine_starts_below_1000ft_Alt',\n",
       "       'pct_engine_starts_below_1000ft_Alt', 'Est_Min_TAS_knots',\n",
       "       'Est_Max_TAS_knots', 'Est_Avg_TAS_knots'],\n",
       "      dtype='object')"
      ]
     },
     "execution_count": 3,
     "metadata": {},
     "output_type": "execute_result"
    }
   ],
   "source": [
    "df.columns"
   ]
  },
  {
   "cell_type": "code",
   "execution_count": 4,
   "id": "ffc2199d-0f0a-4ca7-97d6-219f91a95a4f",
   "metadata": {
    "tags": []
   },
   "outputs": [
    {
     "data": {
      "text/plain": [
       "0      16:44:59\n",
       "1      19:37:03\n",
       "2      18:38:35\n",
       "3      19:31:32\n",
       "4      17:07:46\n",
       "         ...   \n",
       "403    17:33:56\n",
       "404    19:17:17\n",
       "405    17:52:02\n",
       "406    17:58:26\n",
       "407    17:48:28\n",
       "Name: Start Time, Length: 408, dtype: object"
      ]
     },
     "execution_count": 4,
     "metadata": {},
     "output_type": "execute_result"
    }
   ],
   "source": [
    "df['Start Time'] = pd.to_datetime(df['Start Time'].astype(str),format=\"%H%M%S\").dt.time\n",
    "df['Start Time']"
   ]
  },
  {
   "cell_type": "code",
   "execution_count": 5,
   "id": "cacd7459-2a4c-4083-834a-d7b89b7ee4a1",
   "metadata": {
    "tags": []
   },
   "outputs": [
    {
     "data": {
      "text/plain": [
       "0      16:57:05\n",
       "1      19:37:03\n",
       "2      18:47:38\n",
       "3      20:26:16\n",
       "4      17:18:02\n",
       "         ...   \n",
       "403    19:48:39\n",
       "404    19:17:17\n",
       "405    21:15:25\n",
       "406    20:27:32\n",
       "407    21:11:40\n",
       "Name: first_event_time, Length: 408, dtype: object"
      ]
     },
     "execution_count": 5,
     "metadata": {},
     "output_type": "execute_result"
    }
   ],
   "source": [
    "df['first_event_time'] = pd.to_datetime(df['first_event_time'].astype(str),format=\"%H%M%S\").dt.time\n",
    "df['first_event_time']"
   ]
  },
  {
   "cell_type": "code",
   "execution_count": 6,
   "id": "cdfbd004-307c-4159-88a6-13fca74fa6a2",
   "metadata": {
    "tags": []
   },
   "outputs": [],
   "source": [
    "df['time_difference'] = df.apply(lambda row: \n",
    "    pd.to_datetime(str(row['first_event_time'])) - pd.to_datetime(str(row['Start Time'])), axis=1)"
   ]
  },
  {
   "cell_type": "code",
   "execution_count": 7,
   "id": "a5933f62-c96d-4e91-b616-a739863258a6",
   "metadata": {
    "tags": []
   },
   "outputs": [
    {
     "data": {
      "text/plain": [
       "0    00:12:06\n",
       "1    00:00:00\n",
       "2    00:09:03\n",
       "3    00:54:44\n",
       "4    00:10:16\n",
       "5    04:30:44\n",
       "6    04:04:34\n",
       "7    00:10:12\n",
       "8    01:43:56\n",
       "9    00:03:52\n",
       "Name: time_difference, dtype: object"
      ]
     },
     "execution_count": 7,
     "metadata": {},
     "output_type": "execute_result"
    }
   ],
   "source": [
    "df['time_difference'] = df['time_difference'].astype(str).str.split('0 days ').str[-1]\n",
    "df['time_difference'].head(10)"
   ]
  },
  {
   "cell_type": "code",
   "execution_count": 8,
   "id": "9bc32434-08b2-4351-b8de-1936137c03b8",
   "metadata": {
    "tags": []
   },
   "outputs": [
    {
     "data": {
      "text/plain": [
       "0    False\n",
       "1     True\n",
       "2    False\n",
       "3    False\n",
       "4    False\n",
       "5    False\n",
       "6    False\n",
       "7    False\n",
       "8    False\n",
       "9     True\n",
       "Name: Less_than_5_min_into_flight, dtype: bool"
      ]
     },
     "execution_count": 8,
     "metadata": {},
     "output_type": "execute_result"
    }
   ],
   "source": [
    "df['Less_than_5_min_into_flight'] = df['time_difference'].between('00:00:00','00:05:00')\n",
    "df['Less_than_5_min_into_flight'].head(10)"
   ]
  },
  {
   "cell_type": "code",
   "execution_count": 9,
   "id": "1260cc53-1a38-4474-8cf8-dd68881268cf",
   "metadata": {
    "tags": []
   },
   "outputs": [
    {
     "data": {
      "text/plain": [
       "Index(['index', 'Date (MM/DD/YYYY)', 'File', 'Gtype', 'Flight Time',\n",
       "       'Start Time', 'End Time', 'Landing', 'Start_Alt (ft MSL)',\n",
       "       'Max Altitude (ft MSL/ft AGL)', 'Surface Height (ft MSL)',\n",
       "       'Pressure Altitude (ft MSL)', 'Offset (ft)', 'Sensor Info',\n",
       "       'ENL_Engine_Run_Start_Times', 'MOP_Engine_Run_Start_Times',\n",
       "       'RPM_Engine_Run_Start_Times', 'ENL_Engine_Run_Altitudes_MSL',\n",
       "       'MOP_Engine_Run_Altitudes_MSL', 'RPM_Engine_Run_Altitudes_MSL',\n",
       "       'ENL_Engine_Run_Altitudes_AGL', 'MOP_Engine_Run_Altitudes_AGL',\n",
       "       'RPM_Engine_Run_Altitudes_AGL', 'ENL_Noise_Registration_Times',\n",
       "       'MOP_Noise_Registration_Times', 'RPM_Noise_Registration_Times',\n",
       "       'ENL_Noise_Registration_Altitudes_AGL',\n",
       "       'MOP_Noise_Registration_Altitudes_AGL',\n",
       "       'RPM_Noise_Registration_Altitudes_AGL', 'first_event_time',\n",
       "       'event_type', 'event_sensor', 'flight_start_datetime', 'window_start',\n",
       "       'window_end', 'altitude rate of change during pre-event window(ft/s)',\n",
       "       'steady_descent_during_pre_event_window',\n",
       "       'is_circling_during_pre_event_window',\n",
       "       'distance_traveled_during_window (miles)',\n",
       "       'terrain_label_at_first_engine_event',\n",
       "       'avg_speed_while_engine_running (knots)',\n",
       "       'min_speed_while_engine_running (knots)',\n",
       "       'max_speed_while_engine_running (knots)', 'engine_run_times (s)',\n",
       "       'height_gain_loss (ft)', 'terrain_elev_at_first_engine_event (ft)',\n",
       "       'first_engine_agl', 'Engine_Start_Above_1000ft', 'agl_all_events',\n",
       "       'first_event_datetime', 'num_engine_starts_below_1000ft_Alt',\n",
       "       'pct_engine_starts_below_1000ft_Alt', 'Est_Min_TAS_knots',\n",
       "       'Est_Max_TAS_knots', 'Est_Avg_TAS_knots', 'time_difference',\n",
       "       'Less_than_5_min_into_flight'],\n",
       "      dtype='object')"
      ]
     },
     "execution_count": 9,
     "metadata": {},
     "output_type": "execute_result"
    }
   ],
   "source": [
    "df.columns"
   ]
  },
  {
   "cell_type": "code",
   "execution_count": 10,
   "id": "372d479c-c16d-4401-844e-ea8d8b753b18",
   "metadata": {
    "tags": []
   },
   "outputs": [],
   "source": [
    "df_filtered = df[df['Less_than_5_min_into_flight'] == True]"
   ]
  },
  {
   "cell_type": "code",
   "execution_count": 11,
   "id": "c210326d-c941-433d-9516-4a1e8f77eae7",
   "metadata": {
    "tags": []
   },
   "outputs": [
    {
     "data": {
      "text/html": [
       "<div>\n",
       "<style scoped>\n",
       "    .dataframe tbody tr th:only-of-type {\n",
       "        vertical-align: middle;\n",
       "    }\n",
       "\n",
       "    .dataframe tbody tr th {\n",
       "        vertical-align: top;\n",
       "    }\n",
       "\n",
       "    .dataframe thead th {\n",
       "        text-align: right;\n",
       "    }\n",
       "</style>\n",
       "<table border=\"1\" class=\"dataframe\">\n",
       "  <thead>\n",
       "    <tr style=\"text-align: right;\">\n",
       "      <th></th>\n",
       "      <th>index</th>\n",
       "      <th>Date (MM/DD/YYYY)</th>\n",
       "      <th>File</th>\n",
       "      <th>Gtype</th>\n",
       "      <th>Flight Time</th>\n",
       "      <th>Start Time</th>\n",
       "      <th>End Time</th>\n",
       "      <th>Landing</th>\n",
       "      <th>Start_Alt (ft MSL)</th>\n",
       "      <th>Max Altitude (ft MSL/ft AGL)</th>\n",
       "      <th>...</th>\n",
       "      <th>Engine_Start_Above_1000ft</th>\n",
       "      <th>agl_all_events</th>\n",
       "      <th>first_event_datetime</th>\n",
       "      <th>num_engine_starts_below_1000ft_Alt</th>\n",
       "      <th>pct_engine_starts_below_1000ft_Alt</th>\n",
       "      <th>Est_Min_TAS_knots</th>\n",
       "      <th>Est_Max_TAS_knots</th>\n",
       "      <th>Est_Avg_TAS_knots</th>\n",
       "      <th>time_difference</th>\n",
       "      <th>Less_than_5_min_into_flight</th>\n",
       "    </tr>\n",
       "  </thead>\n",
       "  <tbody>\n",
       "    <tr>\n",
       "      <th>1</th>\n",
       "      <td>15</td>\n",
       "      <td>06/27/2024</td>\n",
       "      <td>46RGJUM1.IGC</td>\n",
       "      <td>VENTUS 3F</td>\n",
       "      <td>3:42:29</td>\n",
       "      <td>19:37:03</td>\n",
       "      <td>231932</td>\n",
       "      <td>HOME</td>\n",
       "      <td>3713</td>\n",
       "      <td>11335[8058]</td>\n",
       "      <td>...</td>\n",
       "      <td>False</td>\n",
       "      <td>13.0</td>\n",
       "      <td>2024-06-27 19:37:03</td>\n",
       "      <td>1</td>\n",
       "      <td>100.0</td>\n",
       "      <td>47.043966</td>\n",
       "      <td>94.126960</td>\n",
       "      <td>56.264345</td>\n",
       "      <td>00:00:00</td>\n",
       "      <td>True</td>\n",
       "    </tr>\n",
       "    <tr>\n",
       "      <th>9</th>\n",
       "      <td>54</td>\n",
       "      <td>04/25/2013</td>\n",
       "      <td>2013-04-25-NKL-10Q-01.IGC</td>\n",
       "      <td>ASW 27-18 E (ASG-29E)</td>\n",
       "      <td>2:16:20</td>\n",
       "      <td>19:14:26</td>\n",
       "      <td>213046</td>\n",
       "      <td>HOME</td>\n",
       "      <td>423</td>\n",
       "      <td>6256[5866]</td>\n",
       "      <td>...</td>\n",
       "      <td>True</td>\n",
       "      <td>1617.0</td>\n",
       "      <td>2013-04-25 19:18:18</td>\n",
       "      <td>0</td>\n",
       "      <td>0.0</td>\n",
       "      <td>55.130941</td>\n",
       "      <td>68.725643</td>\n",
       "      <td>61.533325</td>\n",
       "      <td>00:03:52</td>\n",
       "      <td>True</td>\n",
       "    </tr>\n",
       "    <tr>\n",
       "      <th>31</th>\n",
       "      <td>162</td>\n",
       "      <td>06/07/2024</td>\n",
       "      <td>2024-06-07-CNI-24W-01.IGC</td>\n",
       "      <td>Nimeta</td>\n",
       "      <td>5:26:25</td>\n",
       "      <td>19:39:34</td>\n",
       "      <td>10559</td>\n",
       "      <td>HOME</td>\n",
       "      <td>4734</td>\n",
       "      <td>17345[11595]</td>\n",
       "      <td>...</td>\n",
       "      <td>False</td>\n",
       "      <td>7.0</td>\n",
       "      <td>2024-06-07 19:39:34</td>\n",
       "      <td>1</td>\n",
       "      <td>100.0</td>\n",
       "      <td>NaN</td>\n",
       "      <td>NaN</td>\n",
       "      <td>NaN</td>\n",
       "      <td>00:00:00</td>\n",
       "      <td>True</td>\n",
       "    </tr>\n",
       "    <tr>\n",
       "      <th>33</th>\n",
       "      <td>172</td>\n",
       "      <td>08/06/2011</td>\n",
       "      <td>2011-08-06-NKL-0Z0-01.IGC</td>\n",
       "      <td>ASW 27-18 E (ASG-29E)</td>\n",
       "      <td>4:52:24</td>\n",
       "      <td>18:33:59</td>\n",
       "      <td>232623</td>\n",
       "      <td>LOUT</td>\n",
       "      <td>931</td>\n",
       "      <td>9389[7244]</td>\n",
       "      <td>...</td>\n",
       "      <td>True</td>\n",
       "      <td>2067.0,2834.0,3606.0,3635.0,4170.0</td>\n",
       "      <td>2011-08-06 18:37:39</td>\n",
       "      <td>0</td>\n",
       "      <td>0.0</td>\n",
       "      <td>57.827557</td>\n",
       "      <td>89.905458</td>\n",
       "      <td>72.949819</td>\n",
       "      <td>00:03:40</td>\n",
       "      <td>True</td>\n",
       "    </tr>\n",
       "    <tr>\n",
       "      <th>51</th>\n",
       "      <td>257</td>\n",
       "      <td>05/19/2010</td>\n",
       "      <td>05JC3KG1.IGC</td>\n",
       "      <td>VENTUS CT</td>\n",
       "      <td>1:46:37</td>\n",
       "      <td>18:49:50</td>\n",
       "      <td>203627</td>\n",
       "      <td>HOME</td>\n",
       "      <td>803</td>\n",
       "      <td>3933[2845]</td>\n",
       "      <td>...</td>\n",
       "      <td>True</td>\n",
       "      <td>1604.0,847.0,742.0,726.0,768.0</td>\n",
       "      <td>2010-05-19 18:53:30</td>\n",
       "      <td>4</td>\n",
       "      <td>80.0</td>\n",
       "      <td>47.022725</td>\n",
       "      <td>91.387512</td>\n",
       "      <td>78.356508</td>\n",
       "      <td>00:03:40</td>\n",
       "      <td>True</td>\n",
       "    </tr>\n",
       "  </tbody>\n",
       "</table>\n",
       "<p>5 rows × 57 columns</p>\n",
       "</div>"
      ],
      "text/plain": [
       "    index Date (MM/DD/YYYY)                       File                  Gtype  \\\n",
       "1      15        06/27/2024               46RGJUM1.IGC              VENTUS 3F   \n",
       "9      54        04/25/2013  2013-04-25-NKL-10Q-01.IGC  ASW 27-18 E (ASG-29E)   \n",
       "31    162        06/07/2024  2024-06-07-CNI-24W-01.IGC                 Nimeta   \n",
       "33    172        08/06/2011  2011-08-06-NKL-0Z0-01.IGC  ASW 27-18 E (ASG-29E)   \n",
       "51    257        05/19/2010               05JC3KG1.IGC              VENTUS CT   \n",
       "\n",
       "   Flight Time Start Time  End Time Landing  Start_Alt (ft MSL)  \\\n",
       "1      3:42:29   19:37:03    231932    HOME                3713   \n",
       "9      2:16:20   19:14:26    213046    HOME                 423   \n",
       "31     5:26:25   19:39:34     10559    HOME                4734   \n",
       "33     4:52:24   18:33:59    232623    LOUT                 931   \n",
       "51     1:46:37   18:49:50    203627    HOME                 803   \n",
       "\n",
       "   Max Altitude (ft MSL/ft AGL)  ...  Engine_Start_Above_1000ft  \\\n",
       "1                   11335[8058]  ...                      False   \n",
       "9                    6256[5866]  ...                       True   \n",
       "31                 17345[11595]  ...                      False   \n",
       "33                   9389[7244]  ...                       True   \n",
       "51                   3933[2845]  ...                       True   \n",
       "\n",
       "                        agl_all_events  first_event_datetime  \\\n",
       "1                                 13.0   2024-06-27 19:37:03   \n",
       "9                               1617.0   2013-04-25 19:18:18   \n",
       "31                                 7.0   2024-06-07 19:39:34   \n",
       "33  2067.0,2834.0,3606.0,3635.0,4170.0   2011-08-06 18:37:39   \n",
       "51      1604.0,847.0,742.0,726.0,768.0   2010-05-19 18:53:30   \n",
       "\n",
       "   num_engine_starts_below_1000ft_Alt pct_engine_starts_below_1000ft_Alt  \\\n",
       "1                                   1                              100.0   \n",
       "9                                   0                                0.0   \n",
       "31                                  1                              100.0   \n",
       "33                                  0                                0.0   \n",
       "51                                  4                               80.0   \n",
       "\n",
       "   Est_Min_TAS_knots Est_Max_TAS_knots Est_Avg_TAS_knots time_difference  \\\n",
       "1          47.043966         94.126960         56.264345        00:00:00   \n",
       "9          55.130941         68.725643         61.533325        00:03:52   \n",
       "31               NaN               NaN               NaN        00:00:00   \n",
       "33         57.827557         89.905458         72.949819        00:03:40   \n",
       "51         47.022725         91.387512         78.356508        00:03:40   \n",
       "\n",
       "   Less_than_5_min_into_flight  \n",
       "1                         True  \n",
       "9                         True  \n",
       "31                        True  \n",
       "33                        True  \n",
       "51                        True  \n",
       "\n",
       "[5 rows x 57 columns]"
      ]
     },
     "execution_count": 11,
     "metadata": {},
     "output_type": "execute_result"
    }
   ],
   "source": [
    "df_filtered.head(5)"
   ]
  },
  {
   "cell_type": "code",
   "execution_count": 12,
   "id": "52d1b50e-ba84-4d55-bfec-77242e3207bf",
   "metadata": {
    "tags": []
   },
   "outputs": [
    {
     "data": {
      "text/plain": [
       "1                         120\n",
       "9                         120\n",
       "31                        480\n",
       "33      120, 60, 120, 120, 60\n",
       "51    120, 420, 420, 540, 420\n",
       "Name: engine_run_times (s), dtype: object"
      ]
     },
     "execution_count": 12,
     "metadata": {},
     "output_type": "execute_result"
    }
   ],
   "source": [
    "df_filtered['engine_run_times (s)'].head(5)"
   ]
  },
  {
   "cell_type": "code",
   "execution_count": 13,
   "id": "44323f46-9513-4942-aaf4-4f8f796e9623",
   "metadata": {},
   "outputs": [
    {
     "data": {
      "text/plain": [
       "1       13.0\n",
       "9     1617.0\n",
       "31       7.0\n",
       "33    2067.0\n",
       "51    1604.0\n",
       "Name: first_engine_agl, dtype: float64"
      ]
     },
     "execution_count": 13,
     "metadata": {},
     "output_type": "execute_result"
    }
   ],
   "source": [
    "df_filtered['first_engine_agl'].head(5)"
   ]
  },
  {
   "cell_type": "code",
   "execution_count": 14,
   "id": "7848d52c-77eb-4196-ba8c-6c79e6b6482f",
   "metadata": {
    "tags": []
   },
   "outputs": [
    {
     "data": {
      "text/plain": [
       "1     False\n",
       "9      True\n",
       "31    False\n",
       "33     True\n",
       "51     True\n",
       "Name: Engine_Start_Above_1000ft, dtype: bool"
      ]
     },
     "execution_count": 14,
     "metadata": {},
     "output_type": "execute_result"
    }
   ],
   "source": [
    "df_filtered['Engine_Start_Above_1000ft'].head(5)"
   ]
  },
  {
   "cell_type": "code",
   "execution_count": 15,
   "id": "a8835301-64e1-4acb-bab6-409049e13a1a",
   "metadata": {
    "tags": []
   },
   "outputs": [],
   "source": [
    "df_filtered = df_filtered.rename(columns={'engine_run_times (s)': 'engine_run_times','height_gain_loss (ft)':'height_gain_loss'})"
   ]
  },
  {
   "cell_type": "code",
   "execution_count": 16,
   "id": "b4add92b-9a7d-44b9-abc2-416c6f189311",
   "metadata": {
    "tags": []
   },
   "outputs": [],
   "source": [
    "s = df_filtered.engine_run_times.str.split(',')\n",
    "df_filtered['first_engine_run_time'] = np.where(s.str.len()==1, s.str[0] ,s.str[0])"
   ]
  },
  {
   "cell_type": "code",
   "execution_count": 17,
   "id": "5f43a1d3-79ff-44d9-b071-f0d88509e5bb",
   "metadata": {
    "tags": []
   },
   "outputs": [],
   "source": [
    "s = df_filtered.height_gain_loss.str.split(',')\n",
    "df_filtered['first_height_gain_loss'] = np.where(s.str.len()==1, s.str[0] ,s.str[0])"
   ]
  },
  {
   "cell_type": "code",
   "execution_count": 18,
   "id": "40db978e-b5b8-4920-b16a-59e5e4487820",
   "metadata": {
    "tags": []
   },
   "outputs": [
    {
     "data": {
      "text/plain": [
       "1     120\n",
       "9     120\n",
       "31    480\n",
       "33    120\n",
       "51    120\n",
       "Name: first_engine_run_time, dtype: object"
      ]
     },
     "execution_count": 18,
     "metadata": {},
     "output_type": "execute_result"
    }
   ],
   "source": [
    "df_filtered['first_engine_run_time'].head(5)"
   ]
  },
  {
   "cell_type": "code",
   "execution_count": 19,
   "id": "b39265c5-e363-4d74-9dcb-a15cd654bc81",
   "metadata": {
    "tags": []
   },
   "outputs": [],
   "source": [
    "df_new = df_filtered[['first_engine_agl','first_engine_run_time','first_height_gain_loss']]"
   ]
  },
  {
   "cell_type": "code",
   "execution_count": 20,
   "id": "ed6f5597-63d6-4e39-8dd1-68c519a96789",
   "metadata": {
    "tags": []
   },
   "outputs": [],
   "source": [
    "df_filtered['first_engine_run_time'] = df_filtered['first_engine_run_time'].astype(float)"
   ]
  },
  {
   "cell_type": "code",
   "execution_count": 21,
   "id": "bac533d9-0d34-432a-9a15-c7a25c026871",
   "metadata": {
    "tags": []
   },
   "outputs": [],
   "source": [
    "df_filtered['first_height_gain_loss'] = df_filtered['first_height_gain_loss'].astype(float)"
   ]
  },
  {
   "cell_type": "code",
   "execution_count": 22,
   "id": "3e1324bb-8884-43e4-900c-b64c6571064e",
   "metadata": {
    "tags": []
   },
   "outputs": [
    {
     "data": {
      "image/png": "[encoded data removed]",
      "text/plain": [
       "<Figure size 1000x1000 with 9 Axes>"
      ]
     },
     "metadata": {},
     "output_type": "display_data"
    }
   ],
   "source": [
    "import matplotlib.pyplot as plt \n",
    "from pandas.plotting import scatter_matrix \n",
    "  \n",
    "# selecting three numerical features \n",
    "features = ['first_engine_agl','first_engine_run_time','first_height_gain_loss'] \n",
    "   \n",
    "# plotting the scatter matrix \n",
    "# with the features \n",
    "scatter_matrix(df_filtered[features],hist_kwds={'bins': 30},figsize=(10, 10)) \n",
    "plt.savefig('scatterplot.png')\n",
    "plt.show()"
   ]
  },
  {
   "cell_type": "code",
   "execution_count": 23,
   "id": "5a079bce-50ec-416d-af6f-aefbe81f5d7a",
   "metadata": {
    "tags": []
   },
   "outputs": [
    {
     "data": {
      "image/png": "[encoded data removed]",
      "text/plain": [
       "<Figure size 640x480 with 2 Axes>"
      ]
     },
     "metadata": {},
     "output_type": "display_data"
    }
   ],
   "source": [
    "corr = df_new.corr(method = 'spearman')\n",
    "\n",
    "sns.heatmap(corr, annot = True)\n",
    "\n",
    "plt.show()"
   ]
  },
  {
   "cell_type": "code",
   "execution_count": 24,
   "id": "77f83ca3-9480-48f3-a585-aa474021e230",
   "metadata": {
    "tags": []
   },
   "outputs": [
    {
     "data": {
      "image/png": "[encoded data removed]",
      "text/plain": [
       "<Figure size 640x480 with 1 Axes>"
      ]
     },
     "metadata": {},
     "output_type": "display_data"
    }
   ],
   "source": [
    "boxplot = df_filtered.boxplot(column=['first_engine_agl','first_engine_run_time','first_height_gain_loss'])  "
   ]
  },
  {
   "cell_type": "code",
   "execution_count": 25,
   "id": "ce5caf24-3e68-42d7-9ed8-b35caab5177a",
   "metadata": {
    "tags": []
   },
   "outputs": [
    {
     "data": {
      "text/html": [
       "<div>\n",
       "<style scoped>\n",
       "    .dataframe tbody tr th:only-of-type {\n",
       "        vertical-align: middle;\n",
       "    }\n",
       "\n",
       "    .dataframe tbody tr th {\n",
       "        vertical-align: top;\n",
       "    }\n",
       "\n",
       "    .dataframe thead th {\n",
       "        text-align: right;\n",
       "    }\n",
       "</style>\n",
       "<table border=\"1\" class=\"dataframe\">\n",
       "  <thead>\n",
       "    <tr style=\"text-align: right;\">\n",
       "      <th></th>\n",
       "      <th>first_engine_agl</th>\n",
       "      <th>first_engine_run_time</th>\n",
       "      <th>first_height_gain_loss</th>\n",
       "    </tr>\n",
       "  </thead>\n",
       "  <tbody>\n",
       "    <tr>\n",
       "      <th>1</th>\n",
       "      <td>13.0</td>\n",
       "      <td>120</td>\n",
       "      <td>908</td>\n",
       "    </tr>\n",
       "    <tr>\n",
       "      <th>9</th>\n",
       "      <td>1617.0</td>\n",
       "      <td>120</td>\n",
       "      <td>391</td>\n",
       "    </tr>\n",
       "    <tr>\n",
       "      <th>31</th>\n",
       "      <td>7.0</td>\n",
       "      <td>480</td>\n",
       "      <td>2392</td>\n",
       "    </tr>\n",
       "    <tr>\n",
       "      <th>33</th>\n",
       "      <td>2067.0</td>\n",
       "      <td>120</td>\n",
       "      <td>351</td>\n",
       "    </tr>\n",
       "    <tr>\n",
       "      <th>51</th>\n",
       "      <td>1604.0</td>\n",
       "      <td>120</td>\n",
       "      <td>742</td>\n",
       "    </tr>\n",
       "    <tr>\n",
       "      <th>62</th>\n",
       "      <td>4.0</td>\n",
       "      <td>600</td>\n",
       "      <td>2031</td>\n",
       "    </tr>\n",
       "    <tr>\n",
       "      <th>73</th>\n",
       "      <td>7.0</td>\n",
       "      <td>480</td>\n",
       "      <td>2388</td>\n",
       "    </tr>\n",
       "    <tr>\n",
       "      <th>77</th>\n",
       "      <td>1365.0</td>\n",
       "      <td>60</td>\n",
       "      <td>279</td>\n",
       "    </tr>\n",
       "    <tr>\n",
       "      <th>84</th>\n",
       "      <td>30.0</td>\n",
       "      <td>1800</td>\n",
       "      <td>3451</td>\n",
       "    </tr>\n",
       "    <tr>\n",
       "      <th>106</th>\n",
       "      <td>10.0</td>\n",
       "      <td>480</td>\n",
       "      <td>2523</td>\n",
       "    </tr>\n",
       "    <tr>\n",
       "      <th>108</th>\n",
       "      <td>1634.0</td>\n",
       "      <td>60</td>\n",
       "      <td>417</td>\n",
       "    </tr>\n",
       "    <tr>\n",
       "      <th>114</th>\n",
       "      <td>1903.0</td>\n",
       "      <td>120</td>\n",
       "      <td>466</td>\n",
       "    </tr>\n",
       "  </tbody>\n",
       "</table>\n",
       "</div>"
      ],
      "text/plain": [
       "     first_engine_agl first_engine_run_time first_height_gain_loss\n",
       "1                13.0                   120                    908\n",
       "9              1617.0                   120                    391\n",
       "31                7.0                   480                   2392\n",
       "33             2067.0                   120                    351\n",
       "51             1604.0                   120                    742\n",
       "62                4.0                   600                   2031\n",
       "73                7.0                   480                   2388\n",
       "77             1365.0                    60                    279\n",
       "84               30.0                  1800                   3451\n",
       "106              10.0                   480                   2523\n",
       "108            1634.0                    60                    417\n",
       "114            1903.0                   120                    466"
      ]
     },
     "execution_count": 25,
     "metadata": {},
     "output_type": "execute_result"
    }
   ],
   "source": [
    "df_new.head(12)"
   ]
  },
  {
   "cell_type": "code",
   "execution_count": 26,
   "id": "9932eb55-ad83-40e3-9137-c666915324cf",
   "metadata": {
    "tags": []
   },
   "outputs": [
    {
     "data": {
      "text/plain": [
       "first_engine_agl            69.0\n",
       "first_engine_run_time      180.0\n",
       "first_height_gain_loss    1473.0\n",
       "dtype: object"
      ]
     },
     "execution_count": 26,
     "metadata": {},
     "output_type": "execute_result"
    }
   ],
   "source": [
    "df_new.median()"
   ]
  },
  {
   "cell_type": "code",
   "execution_count": 27,
   "id": "abf18331-542a-48d1-92d7-b33ea908447c",
   "metadata": {
    "tags": []
   },
   "outputs": [
    {
     "data": {
      "text/plain": [
       "689.327868852459"
      ]
     },
     "execution_count": 27,
     "metadata": {},
     "output_type": "execute_result"
    }
   ],
   "source": [
    "df_new['first_engine_agl'].mean()"
   ]
  },
  {
   "cell_type": "code",
   "execution_count": 28,
   "id": "5fab12d1-1b70-40d6-a071-020d9692ce29",
   "metadata": {
    "tags": []
   },
   "outputs": [
    {
     "data": {
      "text/plain": [
       "1       True\n",
       "9       True\n",
       "31     False\n",
       "33      True\n",
       "51      True\n",
       "62     False\n",
       "73     False\n",
       "77      True\n",
       "84     False\n",
       "106    False\n",
       "Name: Less_than_250s_run_time, dtype: bool"
      ]
     },
     "execution_count": 28,
     "metadata": {},
     "output_type": "execute_result"
    }
   ],
   "source": [
    "df_filtered['Less_than_250s_run_time'] = df_filtered['first_engine_run_time'] < 250\n",
    "df_filtered['Less_than_250s_run_time'].head(10)"
   ]
  },
  {
   "cell_type": "code",
   "execution_count": 29,
   "id": "1d9bd261-7185-446f-bbb8-6f0321ac0d04",
   "metadata": {
    "tags": []
   },
   "outputs": [],
   "source": [
    "df_filtered_2 = df_filtered[df_filtered['Less_than_250s_run_time'] == True]"
   ]
  },
  {
   "cell_type": "code",
   "execution_count": 30,
   "id": "4303eb08-4b8b-4617-8371-ad9571fca811",
   "metadata": {
    "tags": []
   },
   "outputs": [
    {
     "data": {
      "text/plain": [
       "51"
      ]
     },
     "execution_count": 30,
     "metadata": {},
     "output_type": "execute_result"
    }
   ],
   "source": [
    "len(df_filtered_2)"
   ]
  },
  {
   "cell_type": "code",
   "execution_count": 31,
   "id": "2850f260-f548-4faa-b224-d7a80a9c19bc",
   "metadata": {
    "tags": []
   },
   "outputs": [
    {
     "data": {
      "text/plain": [
       "408"
      ]
     },
     "execution_count": 31,
     "metadata": {},
     "output_type": "execute_result"
    }
   ],
   "source": [
    "len(df)"
   ]
  },
  {
   "cell_type": "code",
   "execution_count": 32,
   "id": "6085999c-4865-4554-9422-49afd6a020c7",
   "metadata": {
    "tags": []
   },
   "outputs": [],
   "source": [
    "df_test = df_filtered[['Gtype','first_engine_agl','first_engine_run_time','first_height_gain_loss']]"
   ]
  },
  {
   "cell_type": "code",
   "execution_count": 33,
   "id": "29d679dd-9706-431a-82c8-8cc851efaf44",
   "metadata": {
    "tags": []
   },
   "outputs": [
    {
     "data": {
      "text/html": [
       "<div>\n",
       "<style scoped>\n",
       "    .dataframe tbody tr th:only-of-type {\n",
       "        vertical-align: middle;\n",
       "    }\n",
       "\n",
       "    .dataframe tbody tr th {\n",
       "        vertical-align: top;\n",
       "    }\n",
       "\n",
       "    .dataframe thead th {\n",
       "        text-align: right;\n",
       "    }\n",
       "</style>\n",
       "<table border=\"1\" class=\"dataframe\">\n",
       "  <thead>\n",
       "    <tr style=\"text-align: right;\">\n",
       "      <th></th>\n",
       "      <th>Gtype</th>\n",
       "      <th>first_engine_agl</th>\n",
       "      <th>first_engine_run_time</th>\n",
       "      <th>first_height_gain_loss</th>\n",
       "    </tr>\n",
       "  </thead>\n",
       "  <tbody>\n",
       "    <tr>\n",
       "      <th>1</th>\n",
       "      <td>VENTUS 3F</td>\n",
       "      <td>13.0</td>\n",
       "      <td>120.0</td>\n",
       "      <td>908.0</td>\n",
       "    </tr>\n",
       "    <tr>\n",
       "      <th>9</th>\n",
       "      <td>ASW 27-18 E (ASG-29E)</td>\n",
       "      <td>1617.0</td>\n",
       "      <td>120.0</td>\n",
       "      <td>391.0</td>\n",
       "    </tr>\n",
       "    <tr>\n",
       "      <th>31</th>\n",
       "      <td>Nimeta</td>\n",
       "      <td>7.0</td>\n",
       "      <td>480.0</td>\n",
       "      <td>2392.0</td>\n",
       "    </tr>\n",
       "    <tr>\n",
       "      <th>33</th>\n",
       "      <td>ASW 27-18 E (ASG-29E)</td>\n",
       "      <td>2067.0</td>\n",
       "      <td>120.0</td>\n",
       "      <td>351.0</td>\n",
       "    </tr>\n",
       "    <tr>\n",
       "      <th>51</th>\n",
       "      <td>VENTUS CT</td>\n",
       "      <td>1604.0</td>\n",
       "      <td>120.0</td>\n",
       "      <td>742.0</td>\n",
       "    </tr>\n",
       "    <tr>\n",
       "      <th>62</th>\n",
       "      <td>Nimeta</td>\n",
       "      <td>4.0</td>\n",
       "      <td>600.0</td>\n",
       "      <td>2031.0</td>\n",
       "    </tr>\n",
       "    <tr>\n",
       "      <th>73</th>\n",
       "      <td>Nimeta</td>\n",
       "      <td>7.0</td>\n",
       "      <td>480.0</td>\n",
       "      <td>2388.0</td>\n",
       "    </tr>\n",
       "    <tr>\n",
       "      <th>77</th>\n",
       "      <td>DISCUS-2CT</td>\n",
       "      <td>1365.0</td>\n",
       "      <td>60.0</td>\n",
       "      <td>279.0</td>\n",
       "    </tr>\n",
       "    <tr>\n",
       "      <th>84</th>\n",
       "      <td>ASW 27-18 E (ASG-29E)</td>\n",
       "      <td>30.0</td>\n",
       "      <td>1800.0</td>\n",
       "      <td>3451.0</td>\n",
       "    </tr>\n",
       "    <tr>\n",
       "      <th>106</th>\n",
       "      <td>Nimeta</td>\n",
       "      <td>10.0</td>\n",
       "      <td>480.0</td>\n",
       "      <td>2523.0</td>\n",
       "    </tr>\n",
       "    <tr>\n",
       "      <th>108</th>\n",
       "      <td>ASW 27-18 E (ASG-29E)</td>\n",
       "      <td>1634.0</td>\n",
       "      <td>60.0</td>\n",
       "      <td>417.0</td>\n",
       "    </tr>\n",
       "    <tr>\n",
       "      <th>114</th>\n",
       "      <td>VENTUS CT</td>\n",
       "      <td>1903.0</td>\n",
       "      <td>120.0</td>\n",
       "      <td>466.0</td>\n",
       "    </tr>\n",
       "  </tbody>\n",
       "</table>\n",
       "</div>"
      ],
      "text/plain": [
       "                     Gtype  first_engine_agl  first_engine_run_time  \\\n",
       "1                VENTUS 3F              13.0                  120.0   \n",
       "9    ASW 27-18 E (ASG-29E)            1617.0                  120.0   \n",
       "31                  Nimeta               7.0                  480.0   \n",
       "33   ASW 27-18 E (ASG-29E)            2067.0                  120.0   \n",
       "51               VENTUS CT            1604.0                  120.0   \n",
       "62                  Nimeta               4.0                  600.0   \n",
       "73                  Nimeta               7.0                  480.0   \n",
       "77              DISCUS-2CT            1365.0                   60.0   \n",
       "84   ASW 27-18 E (ASG-29E)              30.0                 1800.0   \n",
       "106                 Nimeta              10.0                  480.0   \n",
       "108  ASW 27-18 E (ASG-29E)            1634.0                   60.0   \n",
       "114              VENTUS CT            1903.0                  120.0   \n",
       "\n",
       "     first_height_gain_loss  \n",
       "1                     908.0  \n",
       "9                     391.0  \n",
       "31                   2392.0  \n",
       "33                    351.0  \n",
       "51                    742.0  \n",
       "62                   2031.0  \n",
       "73                   2388.0  \n",
       "77                    279.0  \n",
       "84                   3451.0  \n",
       "106                  2523.0  \n",
       "108                   417.0  \n",
       "114                   466.0  "
      ]
     },
     "execution_count": 33,
     "metadata": {},
     "output_type": "execute_result"
    }
   ],
   "source": [
    "df_test.head(12)"
   ]
  },
  {
   "cell_type": "code",
   "execution_count": 34,
   "id": "b8a67215-7219-4865-b477-67a5f403fdc3",
   "metadata": {
    "tags": []
   },
   "outputs": [],
   "source": [
    "df_test.to_csv('Engine_runs_less_than_5_min.csv', index=False)"
   ]
  },
  {
   "cell_type": "code",
   "execution_count": null,
   "id": "fb6bd825-fd8f-4078-ba59-b5fc31c2391c",
   "metadata": {},
   "outputs": [],
   "source": []
  }
 ],
 "metadata": {
  "kernelspec": {
   "display_name": "Python 3 (ipykernel)",
   "language": "python",
   "name": "python3"
  },
  "language_info": {
   "codemirror_mode": {
    "name": "ipython",
    "version": 3
   },
   "file_extension": ".py",
   "mimetype": "text/x-python",
   "name": "python",
   "nbconvert_exporter": "python",
   "pygments_lexer": "ipython3",
   "version": "3.11.4"
  }
 },
 "nbformat": 4,
 "nbformat_minor": 5
}
